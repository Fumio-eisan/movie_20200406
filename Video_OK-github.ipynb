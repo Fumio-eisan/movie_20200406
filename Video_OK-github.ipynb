{
 "cells": [
  {
   "cell_type": "code",
   "execution_count": 2,
   "metadata": {},
   "outputs": [
    {
     "name": "stdout",
     "output_type": "stream",
     "text": [
      "<class 'cv2.VideoCapture'>\n",
      "True\n"
     ]
    }
   ],
   "source": [
    "import cv2\n",
    "cap_file = cv2.VideoCapture('sample_.mov')\n",
    "print(type(cap_file))\n",
    "# <class 'cv2.VideoCapture'>\n",
    "\n",
    "print(cap_file.isOpened())\n",
    "# True"
   ]
  },
  {
   "cell_type": "code",
   "execution_count": 12,
   "metadata": {},
   "outputs": [],
   "source": [
    "#単純に表示\n",
    "import cv2\n",
    "import sys\n",
    "\n",
    "file_path = 'sample_.mov'\n",
    "delay = 1\n",
    "window_name = 'frame'\n",
    "\n",
    "cap = cv2.VideoCapture(file_path)\n",
    "text = 'text.wmv'\n",
    "\n",
    "if not cap.isOpened():\n",
    "    sys.exit()\n",
    "\n",
    "while True:\n",
    "    ret, frame = cap.read()\n",
    "    if not ret:\n",
    "        break\n",
    "    if ret:\n",
    "        frame = cv2.resize(frame, dsize=(600, 400))\n",
    "        cv2.imshow(window_name, frame)\n",
    "        if cv2.waitKey(delay) & 0xFF == ord('q'):\n",
    "            break\n",
    "    else:\n",
    "        cap.set(cv2.CAP_PROP_POS_FRAMES, 0)\n",
    "\n",
    "cv2.destroyWindow(window_name)"
   ]
  },
  {
   "cell_type": "code",
   "execution_count": 13,
   "metadata": {},
   "outputs": [],
   "source": [
    "#単純に表示（字幕あり）\n",
    "import cv2\n",
    "import sys\n",
    "\n",
    "file_path = 'sample_.mov'\n",
    "delay = 1\n",
    "window_name = 'frame'\n",
    "\n",
    "cap = cv2.VideoCapture(file_path)\n",
    "text = 'text.wmv'\n",
    "\n",
    "if not cap.isOpened():\n",
    "    sys.exit()\n",
    "\n",
    "while True:\n",
    "    ret, frame = cap.read()\n",
    "    if ret:\n",
    "        frame = cv2.resize(frame, dsize=(600, 400))\n",
    "        cv2.putText(frame, text,(100, 30), cv2.FONT_HERSHEY_SIMPLEX, 5, (0, 255, 0), thickness=2)\n",
    "        cv2.imshow(window_name, frame)\n",
    "        if cv2.waitKey(delay) & 0xFF == ord('q'):\n",
    "            break\n",
    "    else:\n",
    "        cap.set(cv2.CAP_PROP_POS_FRAMES, 0)\n",
    "\n",
    "cv2.destroyWindow(window_name)"
   ]
  },
  {
   "cell_type": "code",
   "execution_count": 2,
   "metadata": {},
   "outputs": [],
   "source": [
    "#二値化して線引いた処理\n",
    "import cv2\n",
    "import sys\n",
    "\n",
    "camera_id = 0\n",
    "delay = 1\n",
    "window_name = 'frame'\n",
    "file_path = 'sample_.mov'\n",
    "\n",
    "cap = cv2.VideoCapture(file_path)\n",
    "\n",
    "import numpy as np\n",
    "bgrLower = np.array([0, 100, 100])    # 抽出する色の下限(BGR)\n",
    "bgrUpper = np.array([250,250, 250])\n",
    "\n",
    "if not cap.isOpened():\n",
    "    sys.exit()\n",
    "\n",
    "while True:\n",
    "    ret, frame = cap.read()\n",
    "    if not ret:\n",
    "        break\n",
    "    frame = cv2.resize(frame, dsize=(600, 400))\n",
    "\n",
    "    img_mask = cv2.inRange(frame, bgrLower, bgrUpper) \n",
    "    contours, hierarchy = cv2.findContours(img_mask, cv2.RETR_EXTERNAL, cv2.CHAIN_APPROX_SIMPLE)\n",
    "    contours.sort(key=lambda x: cv2.contourArea(x), reverse=True)\n",
    "    #target_contour = max(contours, key=lambda x: cv2.contourArea(x))\n",
    "    #img_mask = cv2.line(img_mask, (250,300), (350,300), (120,120,120), 10) #第2引数が始点、第3引数が終点、第4引数が色、第5引数が線の太さ\n",
    "    #img_mask=cv2.drawContours(img_mask,contours[0:2],-1,(120,120,120),5)\n",
    "\n",
    "    cv2.imshow(window_name, img_mask)\n",
    "    #cv2.imshow(window_name,img_mask, [contours[0],contours[1]])\n",
    "\n",
    "    if cv2.waitKey(delay) & 0xFF == ord('q'):\n",
    "        break\n",
    "\n",
    "cv2.destroyWindow(window_name)"
   ]
  },
  {
   "cell_type": "code",
   "execution_count": null,
   "metadata": {},
   "outputs": [],
   "source": [
    "import numpy as np\n",
    "import cv2\n",
    "\n",
    "cap = cv2.VideoCapture('0940.wmv')\n",
    "\n",
    "# params for ShiTomasi corner detection\n",
    "feature_params = dict( maxCorners = 100,\n",
    "                       qualityLevel = 0.3,\n",
    "                       minDistance = 7,\n",
    "                       blockSize = 7 )\n",
    "\n",
    "# Parameters for lucas kanade optical flow\n",
    "lk_params = dict( winSize  = (15,15),\n",
    "                  maxLevel = 2,\n",
    "                  criteria = (cv2.TERM_CRITERIA_EPS | cv2.TERM_CRITERIA_COUNT, 10, 0.03))\n",
    "\n",
    "# Create some random colors\n",
    "color = np.random.randint(0,255,(100,3))\n",
    "\n",
    "# Take first frame and find corners in it\n",
    "\n",
    "bgrLower = np.array([0, 100, 100])    # 抽出する色の下限(BGR)\n",
    "bgrUpper = np.array([250,250, 250])\n",
    "\n",
    "ret, old_frame = cap.read()\n",
    "#old_gray = cv2.cvtColor(old_frame, cv2.COLOR_BGR2GRAY)\n",
    "old_gray = cv2.inRange(old_frame, bgrLower, bgrUpper) \n",
    "p0 = cv2.goodFeaturesToTrack(old_gray, mask = None, **feature_params)\n",
    "\n",
    "# Create a mask image for drawing purposes\n",
    "mask = np.zeros_like(old_frame)\n",
    "\n",
    "while(1):\n",
    "    ret,frame = cap.read()\n",
    "    #frame_gray = cv2.cvtColor(frame, cv2.COLOR_BGR2GRAY)\n",
    "    frame_gray =cv2.inRange(frame, bgrLower, bgrUpper) \n",
    "\n",
    "    # calculate optical flow\n",
    "    p1, st, err = cv2.calcOpticalFlowPyrLK(old_gray, frame_gray, p0, None, **lk_params)\n",
    "\n",
    "    # Select good points\n",
    "    good_new = p1[st==1]\n",
    "    good_old = p0[st==1]\n",
    "\n",
    "    # draw the tracks\n",
    "    for i,(new,old) in enumerate(zip(good_new,good_old)):\n",
    "        a,b = new.ravel()\n",
    "        c,d = old.ravel()\n",
    "        mask = cv2.line(mask, (a,b),(c,d), color[i].tolist(), 2)\n",
    "        frame = cv2.circle(frame,(a,b),5,color[i].tolist(),-1)\n",
    "    img = cv2.add(frame,mask)\n",
    "\n",
    "    cv2.imshow('frame',img)\n",
    "    k = cv2.waitKey(30) & 0xff\n",
    "    if k == 27:\n",
    "        break\n",
    "\n",
    "    # Now update the previous frame and previous points\n",
    "    old_gray = frame_gray.copy()\n",
    "    p0 = good_new.reshape(-1,1,2)\n",
    "\n",
    "cv2.destroyAllWindows()\n",
    "cap.release()"
   ]
  },
  {
   "cell_type": "code",
   "execution_count": 80,
   "metadata": {},
   "outputs": [],
   "source": [
    "#二値化してcontoursで囲う処理\n",
    "import cv2\n",
    "import sys\n",
    "import math\n",
    "import matplotlib.pyplot as plt\n",
    "\n",
    "camera_id = 0\n",
    "delay = 1\n",
    "window_name1 = 'Nozzle'\n",
    "window_name2 = 'Nozzle'\n",
    "file_path = 'sample_.MOV'\n",
    "text=''\n",
    "cap = cv2.VideoCapture(file_path)\n",
    "\n",
    "import numpy as np\n",
    "bgrLower = np.array([0, 0, 170])    # 抽出する色の下限(BGR)\n",
    "bgrUpper = np.array([255,255, 255])     # 抽出する色の上限(BGR)\n",
    "\n",
    "if not cap.isOpened():\n",
    "    sys.exit()\n",
    "\n",
    "idx = 0\n",
    "    \n",
    "while True:\n",
    "\n",
    "    ret, frame = cap.read()\n",
    "    if not ret:\n",
    "        break\n",
    "    frame = cv2.resize(frame, dsize=(600, 400))\n",
    "    \n",
    "    idx += 1\n",
    "\n",
    "    img_mask = cv2.inRange(frame, bgrLower, bgrUpper) #二値化処理\n",
    "    contours, hierarchy = cv2.findContours(img_mask, cv2.RETR_EXTERNAL, cv2.CHAIN_APPROX_SIMPLE)#境界引き\n",
    "    contours.sort(key=lambda x: cv2.contourArea(x), reverse=True)#境界をソート\n",
    "    target_contour = max(contours, key=lambda x: cv2.contourArea(x))\n",
    "    #img_mask = cv2.line(img_mask, (250,300), (350,300), (120,120,120), 10) #第2引数が始点、第3引数が終点、第4引数が色、第5引数が線の太さ\n",
    "    \n",
    "    img_mask=cv2.drawContours(img_mask,contours[0:5],-1,(120,120,120),5)\n",
    "    x1=np.unravel_index(np.argmax(contours[0],axis=0), contours[0].shape)\n",
    "    x2=np.unravel_index(np.argmax(contours[1],axis=0), contours[0].shape)\n",
    "    \n",
    "    #2点間の距離を求める\n",
    "    #text =str(idx)\n",
    "    img_mask = cv2.line(img_mask, tuple(x1[0][0]), tuple(x2[0][0]), (120,120,120), 3)\n",
    "    \n",
    "    if idx % 30 == 0:\n",
    "        text =str(math.floor(np.linalg.norm(x1[0][0]-x2[0][0])))\n",
    "    cv2.putText(img_mask, text,(300, 100), cv2.FONT_HERSHEY_SIMPLEX, 1.0, (255, 255, 255), thickness=3)\n",
    "    \n",
    "    cv2.imshow(window_name1, frame)\n",
    "    cv2.imshow('sample', img_mask)\n",
    "    \n",
    "    \n",
    "    #cv2.imshow(window_name,img_mask, contours[0])\n",
    "\n",
    "    if cv2.waitKey(delay) & 0xFF == ord('q'):\n",
    "        break\n",
    "        \n",
    "cap.release()\n",
    "cv2.destroyWindow(window_name1)\n",
    "cv2.destroyWindow('sample')"
   ]
  },
  {
   "cell_type": "markdown",
   "metadata": {},
   "source": [
    "# import math\n",
    "math.floor(np.linalg.norm(x1-x2))"
   ]
  },
  {
   "cell_type": "code",
   "execution_count": null,
   "metadata": {},
   "outputs": [],
   "source": [
    "i=np.unravel_index(np.argmin(contours[0],axis=0), contours[0].shape)\n",
    "ii=np.unravel_index(np.argmax(contours[1],axis=0), contours[0].shape)"
   ]
  },
  {
   "cell_type": "code",
   "execution_count": null,
   "metadata": {},
   "outputs": [],
   "source": [
    "i"
   ]
  },
  {
   "cell_type": "code",
   "execution_count": null,
   "metadata": {},
   "outputs": [],
   "source": [
    "i[0][0]"
   ]
  },
  {
   "cell_type": "code",
   "execution_count": null,
   "metadata": {},
   "outputs": [],
   "source": [
    "np.argmin(contours[0][:][:],axis=0)"
   ]
  },
  {
   "cell_type": "code",
   "execution_count": null,
   "metadata": {},
   "outputs": [],
   "source": [
    "aa=np.argmin(contours[0][0:len(contours[0])],axis=0)"
   ]
  },
  {
   "cell_type": "code",
   "execution_count": 2,
   "metadata": {},
   "outputs": [],
   "source": [
    "x= np.array([1])\n",
    "for i in range(len(contours[0])):\n",
    "    x= np.append(x,[contours[0][i][0][0]])\n",
    "    \n",
    "y= np.array([1])\n",
    "for i in range(len(contours[0])):\n",
    "    y= np.append(y,[contours[0][i][0][1]])\n",
    "    \n"
   ]
  },
  {
   "cell_type": "code",
   "execution_count": 5,
   "metadata": {},
   "outputs": [],
   "source": [
    "xx= np.array([1])\n",
    "for i in range(len(contours[1])):\n",
    "    xx= np.append(xx,[contours[1][i][0][0]])\n",
    "    \n",
    "yy= np.array([1])\n",
    "for i in range(len(contours[1])):\n",
    "    yy= np.append(yy,[contours[1][i][0][1]])"
   ]
  },
  {
   "cell_type": "code",
   "execution_count": 7,
   "metadata": {},
   "outputs": [
    {
     "data": {
      "image/png": "[encoded data removed]",
      "text/plain": [
       "<Figure size 432x288 with 1 Axes>"
      ]
     },
     "metadata": {
      "needs_background": "light"
     },
     "output_type": "display_data"
    }
   ],
   "source": [
    "import matplotlib.pyplot as plt\n",
    "# プロット\n",
    "plt.plot(x, y, label=\"test\")\n",
    "plt.plot(xx, yy, label=\"test\")\n",
    "# 凡例の表示\n",
    "plt.legend()\n",
    "# プロット表示(設定の反映)\n",
    "plt.show()"
   ]
  },
  {
   "cell_type": "code",
   "execution_count": null,
   "metadata": {},
   "outputs": [],
   "source": [
    "print(np.argmax(contours[0][:][:][0],axis=0))\n",
    "print(np.argmax(contours[1][:][:][0],axis=0))"
   ]
  },
  {
   "cell_type": "code",
   "execution_count": null,
   "metadata": {},
   "outputs": [],
   "source": [
    "np.unravel_index(np.argmax(contours[0],axis=0), contours[0][:][:].shape)"
   ]
  },
  {
   "cell_type": "code",
   "execution_count": null,
   "metadata": {},
   "outputs": [],
   "source": []
  }
 ],
 "metadata": {
  "kernelspec": {
   "display_name": "Python 3.7.4 64-bit ('base': conda)",
   "language": "python",
   "name": "python37464bitbasecondad10ba3177c0e494ea1f3ac892c2ec15c"
  },
  "language_info": {
   "codemirror_mode": {
    "name": "ipython",
    "version": 3
   },
   "file_extension": ".py",
   "mimetype": "text/x-python",
   "name": "python",
   "nbconvert_exporter": "python",
   "pygments_lexer": "ipython3",
   "version": "3.7.4"
  }
 },
 "nbformat": 4,
 "nbformat_minor": 4
}
